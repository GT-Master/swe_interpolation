{
 "cells": [
  {
   "cell_type": "code",
   "execution_count": 1,
   "metadata": {
    "collapsed": false
   },
   "outputs": [],
   "source": [
    "from postgisUtil import *\n",
    "from matplotlib import pyplot as plt\n",
    "import pickle\n",
    "import os"
   ]
  },
  {
   "cell_type": "code",
   "execution_count": null,
   "metadata": {
    "collapsed": true
   },
   "outputs": [],
   "source": [
    "def db_init():\n",
    "    directory_name = \"ASO_Lidar/\"\n",
    "    basin_names  = [\"Merced\", \"Tuolumne\"]\n",
    "    feature_names = [\"DEM\", \"SLP\", \"ASP\", \"NOR\", \"CHM\", \"VEG\"]\n",
    "    kNN_db = postgisUtil(\"knn_project\", \"zeshi\")\n",
    "#     kNN_db.create_schema(\"topo\")\n",
    "    for basin in basin_names:\n",
    "        print basin\n",
    "        for i, feature in enumerate(feature_names):\n",
    "            print feature\n",
    "            file_name = directory_name + basin + \"_500m_\" + feature + \".tif\"\n",
    "            if i == 0:\n",
    "                kNN_db.load_map_to_db(file_name, feature, \"topo\", basin.lower(), table_exist=False)\n",
    "            else:\n",
    "                kNN_db.load_map_to_db(file_name, feature, \"topo\", basin.lower())\n",
    "    kNN_db.close()"
   ]
  },
  {
   "cell_type": "code",
   "execution_count": null,
   "metadata": {
    "collapsed": true
   },
   "outputs": [],
   "source": [
    "def db_geom_init():\n",
    "    knn_db = postgisUtil(\"knn_project\", \"zeshi\")\n",
    "    knn_db.create_schema('sensors')\n",
    "    knn_db.create_table('site_locs', 'sensors', ['site_id'], ['SERIAL'])\n",
    "    knn_db.add_geometry_column('sensors', 'site_locs', 'site_coords', 32611, 'POINT', 2, use_typemod='false')\n",
    "    location = pickle.load(open('kNN_training_testing/sensor_idx.p'))\n",
    "    test_coords = knn_db.convert_idx_to_coords('DEM', location[1], location[0], 'topo', 'merced')\n",
    "    print test_coords\n",
    "    knn_db.add_geoms_to_table(test_coords[0], test_coords[1], 32611, 'sensors', 'site_locs', 'site_coords')\n",
    "    map_pixel_values = knn_db.geoms_table_to_map_pixel_values(['DEM', 'ASP'], 'sensors', 'site_locs', 'site_coords', 'topo', 'merced')\n",
    "    print map_pixel_values\n",
    "    knn_db.close()"
   ]
  },
  {
   "cell_type": "code",
   "execution_count": 2,
   "metadata": {
    "collapsed": false
   },
   "outputs": [],
   "source": [
    "def db_swe_init(site_name, schema_exist=True):\n",
    "    directory_name = \"ASO_Lidar/\"\n",
    "    knn_db = postgisUtil(\"knn_project\", \"zeshi\")\n",
    "    if not schema_exist:\n",
    "        knn_db.create_schema(\"swe_lidar\")\n",
    "    lidar_fns = os.listdir(\"ASO_Lidar/\")\n",
    "    if site_name.lower()==\"merced\":\n",
    "        site_name_ab = \"MB\"\n",
    "    elif site_name.lower()==\"tuolumne\":\n",
    "        site_name_ab = \"TB\"\n",
    "    lidar_site_fns = [temp_str for temp_str in lidar_fns if temp_str.startswith(site_name_ab)]\n",
    "    lidar_site_date = [temp_str[2:10] for temp_str in lidar_site_fns]\n",
    "    for i, lidar_site_fn in enumerate(lidar_site_fns):\n",
    "        file_name = directory_name + site_name_ab + lidar_site_date[i] + \"_500m.tif\"\n",
    "        print file_name\n",
    "        if i == 0:\n",
    "            knn_db.load_map_to_db(file_name, lidar_site_date[i], \"swe_lidar\", site_name, table_exist=False)\n",
    "        else:\n",
    "            knn_db.load_map_to_db(file_name, lidar_site_date[i], \"swe_lidar\", site_name)\n",
    "    knn_db.close()"
   ]
  },
  {
   "cell_type": "code",
   "execution_count": null,
   "metadata": {
    "collapsed": false
   },
   "outputs": [],
   "source": [
    "db_swe_init(\"merced\", schema_exist=False)"
   ]
  },
  {
   "cell_type": "code",
   "execution_count": 3,
   "metadata": {
    "collapsed": false
   },
   "outputs": [
    {
     "name": "stdout",
     "output_type": "stream",
     "text": [
      "ASO_Lidar/TB20140428_500m.tif\n",
      "ASO_Lidar/TB20140323_500m.tif\n",
      "ASO_Lidar/TB20140511_500m.tif\n",
      "ASO_Lidar/TB20140502_500m.tif\n",
      "ASO_Lidar/TB20140413_500m.tif\n",
      "ASO_Lidar/TB20140407_500m.tif\n",
      "ASO_Lidar/TB20140420_500m.tif\n"
     ]
    }
   ],
   "source": [
    "db_swe_init(\"tuolumne\", schema_exist=True)"
   ]
  },
  {
   "cell_type": "code",
   "execution_count": null,
   "metadata": {
    "collapsed": true
   },
   "outputs": [],
   "source": [
    "class Solution(object):\n",
    "    def longestCommonPrefix(self, strs):\n",
    "        \"\"\"\n",
    "        :type strs: List[str]\n",
    "        :rtype: str\n",
    "        \"\"\"\n",
    "        suffix_strings_array = self.suffix_tree_construct([], strs)\n",
    "        print suffix_strings_array\n",
    "        prefix_array = []\n",
    "        for i in range(len(suffix_strings_array)-1):\n",
    "            j = 0\n",
    "            while j < len(suffix_strings_array[i]) and j < len(suffix_strings_array[i + 1]):\n",
    "                if suffix_strings_array[i][j] == suffix_strings_array[i+1][j]:\n",
    "                    j += 1\n",
    "                else:\n",
    "                    break\n",
    "            prefix_array.append(j)\n",
    "        lcp_length = max(prefix_array)\n",
    "        lcp_length_idx = prefix_array.index(lcp_length)\n",
    "        lcp_string = suffix_strings_array[lcp_length_idx][0:lcp_length]\n",
    "        return lcp_string\n",
    "        \n",
    "    def suffix_tree_construct(self, current_strings, remaining_strings):\n",
    "        if current_strings==[]:\n",
    "            current_strings.append(remaining_strings.pop(0))\n",
    "        else:\n",
    "            temp_string = remaining_strings.pop(0)\n",
    "            for i in range(len(current_strings)-1, -1, -1):\n",
    "                compare_string = current_strings[i]\n",
    "                insert = True\n",
    "                j = 0\n",
    "                while j < len(compare_string) and j < len(temp_string):\n",
    "                    if temp_string[j] < compare_string[j]:\n",
    "                        insert = False\n",
    "                        break\n",
    "                    j += 1\n",
    "                if j==len(temp_string) and j < len(compare_string):\n",
    "                    insert = False\n",
    "                if insert:\n",
    "                    current_strings.insert(i+1, temp_string)\n",
    "                    break\n",
    "                if not insert and i == 0:\n",
    "                    current_strings.insert(i, temp_string)\n",
    "        if remaining_strings == []:\n",
    "            return current_strings\n",
    "        else:\n",
    "            current_strings = self.suffix_tree_construct(current_strings, remaining_strings)\n",
    "        return current_strings"
   ]
  },
  {
   "cell_type": "code",
   "execution_count": null,
   "metadata": {
    "collapsed": false
   },
   "outputs": [],
   "source": [
    "obj = Solution()\n",
    "print obj.longestCommonPrefix([\"abc\", \"ab\", \"abba\"])"
   ]
  },
  {
   "cell_type": "code",
   "execution_count": null,
   "metadata": {
    "collapsed": false
   },
   "outputs": [],
   "source": [
    "print os.listdir(\"ASO_Lidar/\")"
   ]
  },
  {
   "cell_type": "code",
   "execution_count": 45,
   "metadata": {
    "collapsed": true
   },
   "outputs": [],
   "source": [
    "def comb(digit_list, k):\n",
    "    temp_list = []\n",
    "    if len(digit_list) == k:\n",
    "        return [digit_list]\n",
    "    if k == 0:\n",
    "        return []\n",
    "    else:\n",
    "        temp_result_1 = comb(digit_list[1:], k-1)\n",
    "        temp_result_0 = comb(digit_list[1:], k)\n",
    "        if temp_result_1:\n",
    "            for temp in temp_result_1:\n",
    "                temp_list.append([digit_list[0]]+temp)\n",
    "        else:\n",
    "            temp_list.append([digit_list[0]])\n",
    "\n",
    "        for temp in temp_result_0:\n",
    "            temp_list.append(temp)\n",
    "    return temp_list"
   ]
  },
  {
   "cell_type": "code",
   "execution_count": 46,
   "metadata": {
    "collapsed": false
   },
   "outputs": [
    {
     "name": "stdout",
     "output_type": "stream",
     "text": [
      "[[0], [1], [2], [3], [4], [5], [6], [7], [8], [9], [10], [11]]\n"
     ]
    }
   ],
   "source": [
    "print comb(range(12), 1)"
   ]
  },
  {
   "cell_type": "code",
   "execution_count": 49,
   "metadata": {
    "collapsed": false
   },
   "outputs": [
    {
     "name": "stdout",
     "output_type": "stream",
     "text": [
      "()\n"
     ]
    }
   ],
   "source": [
    "from itertools import combinations\n",
    "combin = combinations(range(12), 0)\n",
    "for a in combin:\n",
    "    print a"
   ]
  },
  {
   "cell_type": "code",
   "execution_count": null,
   "metadata": {
    "collapsed": true
   },
   "outputs": [],
   "source": [
    "class ListNode(object):\n",
    "    def __init__(self, x):\n",
    "        self.val = x\n",
    "        self.next = None\n",
    "\n",
    "class Solution(object):\n",
    "    def mergeTwoLists(self, l1, l2):\n",
    "        \"\"\"\n",
    "        :type l1: ListNode\n",
    "        :type l2: ListNode\n",
    "        :rtype: ListNode\n",
    "        \"\"\"\n",
    "        pointer1 = l1\n",
    "        pointer2 = l2\n",
    "        \n",
    "        if pointer2.val <= l1.val:\n",
    "            tempNode = pointer2\n",
    "            tempNode.next = pointer1\n",
    "            pointer1 = tempNode\n",
    "            l1 = pointer1\n",
    "            pointer2 = pointer2.next\n",
    " \n",
    "        while pointer2 is not None and pointer1.next is not None:\n",
    "            print point1.val\n",
    "            if pointer2.val >= pointer1.val and pointer2.val <= pointer1.next.val:\n",
    "                tempNode = pointer2\n",
    "                tempNode.next = pointer1.next\n",
    "                pointer1.next = tempNode\n",
    "                pointer2 = pointer2.next\n",
    "                pointer1 = pointer1.next\n",
    "            else:\n",
    "                pointer1 = pointer1.next\n",
    "        if pointer2:\n",
    "            pointer1.next = pointer2\n",
    "        return l1"
   ]
  },
  {
   "cell_type": "code",
   "execution_count": null,
   "metadata": {
    "collapsed": true
   },
   "outputs": [],
   "source": [
    "l1 = ListNode(1)\n",
    "second = ListNode(2)\n",
    "second.next = listNode(4)\n",
    "l1.next = second\n",
    "l2 = ListN\n",
    "sol = Solution()\n",
    "mergeTwoLists"
   ]
  }
 ],
 "metadata": {
  "kernelspec": {
   "display_name": "Python 2",
   "language": "python",
   "name": "python2"
  },
  "language_info": {
   "codemirror_mode": {
    "name": "ipython",
    "version": 2
   },
   "file_extension": ".py",
   "mimetype": "text/x-python",
   "name": "python",
   "nbconvert_exporter": "python",
   "pygments_lexer": "ipython2",
   "version": "2.7.3"
  }
 },
 "nbformat": 4,
 "nbformat_minor": 0
}
