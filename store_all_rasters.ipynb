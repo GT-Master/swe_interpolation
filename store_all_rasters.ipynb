{
 "cells": [
  {
   "cell_type": "code",
   "execution_count": 1,
   "metadata": {
    "collapsed": false
   },
   "outputs": [],
   "source": [
    "from postgisUtil import postgisUtil\n",
    "from matplotlib import pyplot as plt\n",
    "import pickle\n",
    "import os"
   ]
  },
  {
   "cell_type": "code",
   "execution_count": null,
   "metadata": {
    "collapsed": true
   },
   "outputs": [],
   "source": [
    "def db_init():\n",
    "    directory_name = \"ASO_Lidar/\"\n",
    "    basin_names  = [\"Merced\", \"Tuolumne\"]\n",
    "    feature_names = [\"DEM\", \"SLP\", \"ASP\", \"NOR\", \"CHM\", \"VEG\"]\n",
    "    kNN_db = postgisUtil(\"knn_project\", \"zeshi\")\n",
    "    kNN_db.create_schema(\"topo\")\n",
    "    for basin in basin_names:\n",
    "        print basin\n",
    "        for i, feature in enumerate(feature_names):\n",
    "            print feature\n",
    "            file_name = directory_name + basin + \"_500m_\" + feature + \".tif\"\n",
    "            if i == 0:\n",
    "                kNN_db.load_map_to_db(file_name, feature, \"topo\", basin.lower(), table_exist=False)\n",
    "            else:\n",
    "                kNN_db.load_map_to_db(file_name, feature, \"topo\", basin.lower())\n",
    "    kNN_db.close()"
   ]
  },
  {
   "cell_type": "code",
   "execution_count": null,
   "metadata": {
    "collapsed": false
   },
   "outputs": [],
   "source": [
    "db_init()"
   ]
  },
  {
   "cell_type": "code",
   "execution_count": null,
   "metadata": {
    "collapsed": true
   },
   "outputs": [],
   "source": [
    "def db_geom_init(site_name, schema_exist=True):\n",
    "    if site_name == \"merced\":\n",
    "        site_name_abbr = \"\"\n",
    "    if site_name == \"tuolumne\":\n",
    "        site_name_abbr = \"tb\"\n",
    "    knn_db = postgisUtil(\"knn_project\", \"zeshi\")\n",
    "    if not schema_exist:\n",
    "        knn_db.create_schema('sensors')\n",
    "    knn_db.create_table(site_name, 'sensors', ['site_id'], ['SERIAL'])\n",
    "    knn_db.add_geometry_column('sensors', site_name, 'site_coords', 32611, 'POINT', 2, use_typemod='false')\n",
    "    location = pickle.load(open(\"kNN_training_testing/\" + site_name_abbr + \"_sensor_idx.p\"))\n",
    "    test_coords = knn_db.convert_idx_to_coords('DEM', location[1], location[0], 'topo', site_name)\n",
    "    print test_coords\n",
    "    knn_db.add_geoms_to_table(test_coords[0], test_coords[1], 32611, 'sensors', site_name, 'site_coords')\n",
    "    map_pixel_values = knn_db.geoms_table_to_map_pixel_values(['DEM', 'ASP'], 'sensors', site_name, 'site_coords', 'topo', site_name)\n",
    "    print map_pixel_values\n",
    "    knn_db.close()"
   ]
  },
  {
   "cell_type": "code",
   "execution_count": 11,
   "metadata": {
    "collapsed": false
   },
   "outputs": [],
   "source": [
    "def db_swe_init(site_name, schema_exist=True):\n",
    "    directory_name = \"ASO_Lidar/\"\n",
    "    knn_db = postgisUtil(\"knn_project\", \"zeshi\")\n",
    "    if not schema_exist:\n",
    "        knn_db.create_schema(\"swe_lidar\")\n",
    "    lidar_fns = os.listdir(\"ASO_Lidar/\")\n",
    "    if site_name.lower()==\"merced\":\n",
    "        site_name_ab = \"MB20\"\n",
    "    elif site_name.lower()==\"tuolumne\":\n",
    "        site_name_ab = \"TB20\"\n",
    "    elif site_name.lower()==\"tuolumne_survey\":\n",
    "        site_name_ab = \"TB20\"\n",
    "    elif site_name.lower()==\"tuolumne_survey_plus\":\n",
    "        site_name_ab = \"MBTB20\"\n",
    "    lidar_site_fns = [temp_str for temp_str in lidar_fns if temp_str.startswith(site_name_ab) and temp_str.endswith('500m.tif')]\n",
    "    if site_name.lower()==\"tuolumne_survey_plus\":\n",
    "        lidar_site_fns = [temp_str for temp_str in lidar_fns if temp_str.startswith(\"TB2016\") or temp_str.startswith(\"MBTB2014\")]\n",
    "    print lidar_site_fns\n",
    "    lidar_site_date = [temp_str[2:10] for temp_str in lidar_site_fns]\n",
    "    if site_name.lower()==\"tuolumne_survey_plus\":\n",
    "        lidar_site_date = []\n",
    "        for fn in lidar_site_fns:\n",
    "            if fn.startswith(\"TB\"):\n",
    "                lidar_site_date.append(fn[2:10])\n",
    "            else:\n",
    "                lidar_site_date.append(fn[4:12])\n",
    "    for i, lidar_site_fn in enumerate(lidar_site_fns):\n",
    "        file_name = directory_name + lidar_site_fns[i]\n",
    "        print file_name\n",
    "        if i == 0:\n",
    "            knn_db.load_map_to_db(file_name, lidar_site_date[i], \"swe_lidar\", site_name, table_exist=False)\n",
    "        else:\n",
    "            knn_db.load_map_to_db(file_name, lidar_site_date[i], \"swe_lidar\", site_name)\n",
    "    knn_db.close()"
   ]
  },
  {
   "cell_type": "code",
   "execution_count": 3,
   "metadata": {
    "collapsed": false
   },
   "outputs": [
    {
     "name": "stdout",
     "output_type": "stream",
     "text": [
      "['MB20140503_500m.tif', 'MB20140512_500m.tif', 'MB20140429_500m.tif', 'MB20140406_500m.tif', 'MB20140423_500m.tif', 'MB20140414_500m.tif', 'MB20140324_500m.tif']\n",
      "ASO_Lidar/MB20140503_500m.tif\n",
      "ASO_Lidar/MB20140512_500m.tif\n",
      "ASO_Lidar/MB20140429_500m.tif\n",
      "ASO_Lidar/MB20140406_500m.tif\n",
      "ASO_Lidar/MB20140423_500m.tif\n",
      "ASO_Lidar/MB20140414_500m.tif\n",
      "ASO_Lidar/MB20140324_500m.tif\n"
     ]
    }
   ],
   "source": [
    "db_swe_init(\"merced\")"
   ]
  },
  {
   "cell_type": "code",
   "execution_count": 4,
   "metadata": {
    "collapsed": false
   },
   "outputs": [
    {
     "name": "stdout",
     "output_type": "stream",
     "text": [
      "['TB20160407_500m.tif', 'TB20160527_500m.tif', 'TB20140428_500m.tif', 'TB20160401_500m.tif', 'TB20140605_500m.tif', 'TB20140323_500m.tif', 'TB20140511_500m.tif', 'TB20160426_500m.tif', 'TB20140531_500m.tif', 'TB20160620_500m.tif', 'TB20140517_500m.tif', 'TB20140502_500m.tif', 'TB20160416_500m.tif', 'TB20140413_500m.tif', 'TB20140407_500m.tif', 'TB20160607_500m.tif', 'TB20140420_500m.tif', 'TB20160613_500m.tif', 'TB20140527_500m.tif']\n",
      "ASO_Lidar/TB20160407_500m.tif\n",
      "ASO_Lidar/TB20160527_500m.tif\n",
      "ASO_Lidar/TB20140428_500m.tif\n",
      "ASO_Lidar/TB20160401_500m.tif\n",
      "ASO_Lidar/TB20140605_500m.tif\n",
      "ASO_Lidar/TB20140323_500m.tif\n",
      "ASO_Lidar/TB20140511_500m.tif\n",
      "ASO_Lidar/TB20160426_500m.tif\n",
      "ASO_Lidar/TB20140531_500m.tif\n",
      "ASO_Lidar/TB20160620_500m.tif\n",
      "ASO_Lidar/TB20140517_500m.tif\n",
      "ASO_Lidar/TB20140502_500m.tif\n",
      "ASO_Lidar/TB20160416_500m.tif\n",
      "ASO_Lidar/TB20140413_500m.tif\n",
      "ASO_Lidar/TB20140407_500m.tif\n",
      "ASO_Lidar/TB20160607_500m.tif\n",
      "ASO_Lidar/TB20140420_500m.tif\n",
      "ASO_Lidar/TB20160613_500m.tif\n",
      "ASO_Lidar/TB20140527_500m.tif\n"
     ]
    }
   ],
   "source": [
    "db_swe_init(\"tuolumne\")"
   ]
  },
  {
   "cell_type": "code",
   "execution_count": 6,
   "metadata": {
    "collapsed": false
   },
   "outputs": [
    {
     "name": "stdout",
     "output_type": "stream",
     "text": [
      "['TB20160407_500m.tif', 'TB20160527_500m.tif', 'TB20140428_500m.tif', 'TB20160401_500m.tif', 'TB20140605_500m.tif', 'TB20140323_500m.tif', 'TB20140511_500m.tif', 'TB20160426_500m.tif', 'TB20140531_500m.tif', 'TB20160620_500m.tif', 'TB20140517_500m.tif', 'TB20140502_500m.tif', 'TB20160416_500m.tif', 'TB20140413_500m.tif', 'TB20140407_500m.tif', 'TB20160607_500m.tif', 'TB20140420_500m.tif', 'TB20160613_500m.tif', 'TB20140527_500m.tif']\n",
      "ASO_Lidar/TB20160407_500m.tif\n",
      "ASO_Lidar/TB20160527_500m.tif\n",
      "ASO_Lidar/TB20140428_500m.tif\n",
      "ASO_Lidar/TB20160401_500m.tif\n",
      "ASO_Lidar/TB20140605_500m.tif\n",
      "ASO_Lidar/TB20140323_500m.tif\n",
      "ASO_Lidar/TB20140511_500m.tif\n",
      "ASO_Lidar/TB20160426_500m.tif\n",
      "ASO_Lidar/TB20140531_500m.tif\n",
      "ASO_Lidar/TB20160620_500m.tif\n",
      "ASO_Lidar/TB20140517_500m.tif\n",
      "ASO_Lidar/TB20140502_500m.tif\n",
      "ASO_Lidar/TB20160416_500m.tif\n",
      "ASO_Lidar/TB20140413_500m.tif\n",
      "ASO_Lidar/TB20140407_500m.tif\n",
      "ASO_Lidar/TB20160607_500m.tif\n",
      "ASO_Lidar/TB20140420_500m.tif\n",
      "ASO_Lidar/TB20160613_500m.tif\n",
      "ASO_Lidar/TB20140527_500m.tif\n"
     ]
    }
   ],
   "source": [
    "db_swe_init(\"tuolumne_survey\")"
   ]
  },
  {
   "cell_type": "code",
   "execution_count": 12,
   "metadata": {
    "collapsed": false
   },
   "outputs": [
    {
     "name": "stdout",
     "output_type": "stream",
     "text": [
      "['MBTB20140512_500m.tif', 'TB20160407_500m.tif', 'MBTB20140429_500m.tif', 'TB20160527_500m.tif', 'MBTB20140414_500m.tif', 'TB20160401_500m.tif', 'MBTB20140324_500m.tif', 'TB20160426_500m.tif', 'MBTB20140406_500m.tif', 'TB20160620_500m.tif', 'MBTB20140503_500m.tif', 'TB20160416_500m.tif', 'TB20160607_500m.tif', 'TB20160613_500m.tif']\n",
      "ASO_Lidar/MBTB20140512_500m.tif\n",
      "ASO_Lidar/TB20160407_500m.tif\n",
      "ASO_Lidar/MBTB20140429_500m.tif\n",
      "ASO_Lidar/TB20160527_500m.tif\n",
      "ASO_Lidar/MBTB20140414_500m.tif\n",
      "ASO_Lidar/TB20160401_500m.tif\n",
      "ASO_Lidar/MBTB20140324_500m.tif\n",
      "ASO_Lidar/TB20160426_500m.tif\n",
      "ASO_Lidar/MBTB20140406_500m.tif\n",
      "ASO_Lidar/TB20160620_500m.tif\n",
      "ASO_Lidar/MBTB20140503_500m.tif\n",
      "ASO_Lidar/TB20160416_500m.tif\n",
      "ASO_Lidar/TB20160607_500m.tif\n",
      "ASO_Lidar/TB20160613_500m.tif\n"
     ]
    }
   ],
   "source": [
    "db_swe_init(\"tuolumne_survey_plus\")"
   ]
  },
  {
   "cell_type": "code",
   "execution_count": null,
   "metadata": {
    "collapsed": true
   },
   "outputs": [],
   "source": [
    "snow_sensors = [(38.092, -119.43), \n",
    "                (38.047, -119.67), \n",
    "                (37.873, -119.35), \n",
    "                (37.897, -119.257), \n",
    "                (37.911, -119.257)]"
   ]
  },
  {
   "cell_type": "code",
   "execution_count": null,
   "metadata": {
    "collapsed": false
   },
   "outputs": [],
   "source": [
    "snow_surveys = [(38.092, -119.43), \n",
    "                (38.047, -119.67), \n",
    "                (37.873, -119.35), \n",
    "                (37.897, -119.257), \n",
    "                (37.911, -119.257),\n",
    "                (38.083, -119.633),\n",
    "                (38.15, -119.617),\n",
    "                (37.837, -119.325)]"
   ]
  },
  {
   "cell_type": "code",
   "execution_count": null,
   "metadata": {
    "collapsed": false
   },
   "outputs": [],
   "source": [
    "db = postgisUtil(\"knn_project\", \"zeshi\")\n",
    "snow_surveys_lon = [s[1] for s in snow_surveys]\n",
    "snow_surveys_lat = [s[0] for s in snow_surveys]\n",
    "snow_survey_x_utm11, snow_survey_y_utm11 = db.convert_spatial_ref_sys(snow_surveys_lon, snow_surveys_lat, 4326, 32611)\n",
    "print snow_survey_x_utm11, snow_survey_y_utm11\n",
    "db.close()"
   ]
  },
  {
   "cell_type": "code",
   "execution_count": null,
   "metadata": {
    "collapsed": true
   },
   "outputs": [],
   "source": [
    "db = postgisUtil(\"knn_project\", \"zeshi\")\n",
    "for feature in ['DEM', 'SLP', 'ASP', 'NOR', 'VEG', 'CHM']:\n",
    "    fn = 'ASO_Lidar_500m/MBTB_500m_' + feature + '.tif'\n",
    "    if feature == 'DEM':\n",
    "        db.load_map_to_db(fn, feature, 'topo', 'MBTB', table_exist=False)\n",
    "    else:\n",
    "        db.load_map_to_db(fn, feature, 'topo', 'MBTB', table_exist=True)\n",
    "db.close()"
   ]
  },
  {
   "cell_type": "code",
   "execution_count": null,
   "metadata": {
    "collapsed": false
   },
   "outputs": [],
   "source": [
    "tioga_sensors_feature = np.load('kNN_training_testing/tioga_sensors_feature.npy')\n",
    "tioga_sensors_idx_y = map(int, tioga_sensors_feature[:, 0])\n",
    "tioga_sensors_idx_x = map(int, tioga_sensors_feature[:, 1])\n",
    "print tioga_sensors_idx_y, tioga_sensors_idx_x"
   ]
  },
  {
   "cell_type": "code",
   "execution_count": null,
   "metadata": {
    "collapsed": false
   },
   "outputs": [],
   "source": [
    "db = postgisUtil(\"knn_project\", \"zeshi\")\n",
    "tioga_sensors_coords = db.convert_idx_to_coords('DEM', tioga_sensors_idx_x, tioga_sensors_idx_y, 'topo', 'mbtb')\n",
    "db.close()\n",
    "print tioga_sensors_coords"
   ]
  },
  {
   "cell_type": "code",
   "execution_count": null,
   "metadata": {
    "collapsed": true
   },
   "outputs": [],
   "source": [
    "db = postgisUtil(\"knn_project\", \"zeshi\")\n",
    "db.create_table(\"tuolumne_survey\", \"sensors\", ['site_id'], ['SERIAL'])\n",
    "db.add_geometry_column('sensors', \"tuolumne_survey\", 'site_coords', 32611, 'POINT', 2, use_typemod='false')\n",
    "db.add_geoms_to_table(snow_survey_x_utm11, snow_survey_y_utm11, 32611, 'sensors', \"tuolumne_survey\", 'site_coords')\n",
    "db.close()"
   ]
  },
  {
   "cell_type": "code",
   "execution_count": null,
   "metadata": {
    "collapsed": false
   },
   "outputs": [],
   "source": [
    "survey_plus_x = np.append(snow_survey_x_utm11, tioga_sensors_coords[0])\n",
    "survey_plus_y = np.append(snow_survey_y_utm11, tioga_sensors_coords[1])\n",
    "print survey_plus_x, survey_plus_y"
   ]
  },
  {
   "cell_type": "code",
   "execution_count": null,
   "metadata": {
    "collapsed": true
   },
   "outputs": [],
   "source": [
    "db = postgisUtil(\"knn_project\", \"zeshi\")\n",
    "db.create_table(\"tuolumne_survey_plus\", \"sensors\", ['site_id'], ['SERIAL'])\n",
    "db.add_geometry_column('sensors', \"tuolumne_survey_plus\", 'site_coords', 32611, 'POINT', 2, use_typemod='false')\n",
    "db.add_geoms_to_table(snow_survey_x_utm11, snow_survey_y_utm11, 32611, 'sensors', \"tuolumne_survey_plus\", 'site_coords')\n",
    "db.close()"
   ]
  }
 ],
 "metadata": {
  "kernelspec": {
   "display_name": "Python 2",
   "language": "python",
   "name": "python2"
  },
  "language_info": {
   "codemirror_mode": {
    "name": "ipython",
    "version": 2
   },
   "file_extension": ".py",
   "mimetype": "text/x-python",
   "name": "python",
   "nbconvert_exporter": "python",
   "pygments_lexer": "ipython2",
   "version": "2.7.3"
  }
 },
 "nbformat": 4,
 "nbformat_minor": 0
}
