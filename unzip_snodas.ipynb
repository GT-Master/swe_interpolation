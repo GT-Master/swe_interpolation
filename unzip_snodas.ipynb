{
 "cells": [
  {
   "cell_type": "code",
   "execution_count": 1,
   "metadata": {
    "collapsed": true
   },
   "outputs": [],
   "source": [
    "__author__ = 'zeshi'\n",
    "import tarfile\n",
    "from datetime import date, timedelta\n",
    "import gzip\n",
    "import os\n",
    "from gdal import GA_ReadOnly\n",
    "import gdal\n",
    "from matplotlib import pyplot as plt\n",
    "import numpy as np\n",
    "import pandas as pd\n",
    "from pandas import Series, date_range"
   ]
  },
  {
   "cell_type": "code",
   "execution_count": 7,
   "metadata": {
    "collapsed": true
   },
   "outputs": [],
   "source": [
    "def untargz_snodas(date):\n",
    "    folder_name = \"SNODAS/\"\n",
    "    tar_fn = folder_name + \"SNODAS_\" + str(date.year) + str(date.month).zfill(2) + str(date.day).zfill(2)+ \".tar\"\n",
    "    file = tarfile.open(tar_fn, \"r:\")\n",
    "    dat_member_name = \"./us_ssmv11034tS__T0001TTNATS\" + str(date.year) + str(date.month).zfill(2) + str(date.day).zfill(2) + \\\n",
    "                      \"05HP001.dat.gz\"\n",
    "    hdr_member_name = \"./us_ssmv11034tS__T0001TTNATS\" + str(date.year) + str(date.month).zfill(2) + str(date.day).zfill(2) + \\\n",
    "                      \"05HP001.Hdr.gz\"\n",
    "    dat_member = file.getmember(dat_member_name)\n",
    "    hdr_member = file.getmember(hdr_member_name)\n",
    "    file.extract(dat_member, path=folder_name)\n",
    "    file.extract(hdr_member, path=folder_name)\n",
    "    dat_gz_fn = folder_name + dat_member_name\n",
    "    hdr_gz_fn = folder_name + hdr_member_name\n",
    "    dat_file = gzip.open(dat_gz_fn, \"rb\")\n",
    "    dat_outF = open(dat_gz_fn[:-3], \"wb\")\n",
    "    hdr_file = gzip.open(hdr_gz_fn, \"rb\")\n",
    "    hdr_outF = open(hdr_gz_fn[:-3], \"wb\")\n",
    "    dat_outF.write(dat_file.read())\n",
    "    for i, line in enumerate(hdr_file):\n",
    "        if i >= 0 and i <= 1:\n",
    "            hdr_outF.write(line)\n",
    "        if i >= 18 and i <= 57:\n",
    "            hdr_outF.write(line)\n",
    "    dat_file.close()\n",
    "    dat_outF.close()\n",
    "    hdr_file.close()\n",
    "    hdr_outF.close()\n",
    "    os.remove(dat_gz_fn)\n",
    "    os.remove(hdr_gz_fn)"
   ]
  },
  {
   "cell_type": "code",
   "execution_count": null,
   "metadata": {
    "collapsed": true
   },
   "outputs": [],
   "source": [
    "def gen_snodas_fn(date):\n",
    "    folder_name = \"SNODAS/\"\n",
    "    return folder_name + \"us_ssmv11034tS__T0001TTNATS\" + str(date.year) + str(date.month).zfill(2) + str(date.day).zfill(2) + \"05HP001.Hdr.gz\""
   ]
  },
  {
   "cell_type": "code",
   "execution_count": 5,
   "metadata": {
    "collapsed": true
   },
   "outputs": [],
   "source": [
    "def untargz_all_snodas():\n",
    "    data_dates = [date(2014, 3, 24), date(2014, 4, 6), date(2014, 4, 14), date(2014, 4, 23), \n",
    "                  date(2014, 4, 29), date(2014, 5, 3), date(2014, 5, 12)]\n",
    "    for temp_date in data_dates:\n",
    "        print temp_date\n",
    "        untargz_snodas(temp_date)"
   ]
  },
  {
   "cell_type": "code",
   "execution_count": 8,
   "metadata": {
    "collapsed": false
   },
   "outputs": [
    {
     "name": "stdout",
     "output_type": "stream",
     "text": [
      "2014-03-24\n",
      "2014-04-06\n",
      "2014-04-14\n",
      "2014-04-23\n",
      "2014-04-29\n",
      "2014-05-03\n",
      "2014-05-12\n"
     ]
    }
   ],
   "source": [
    "untargz_all_snodas()"
   ]
  }
 ],
 "metadata": {
  "kernelspec": {
   "display_name": "Python 2",
   "language": "python",
   "name": "python2"
  },
  "language_info": {
   "codemirror_mode": {
    "name": "ipython",
    "version": 2
   },
   "file_extension": ".py",
   "mimetype": "text/x-python",
   "name": "python",
   "nbconvert_exporter": "python",
   "pygments_lexer": "ipython2",
   "version": "2.7.3"
  }
 },
 "nbformat": 4,
 "nbformat_minor": 0
}
